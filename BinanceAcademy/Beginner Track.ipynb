{
 "cells": [
  {
   "cell_type": "markdown",
   "metadata": {},
   "source": [
    "resource link : https://academy.binance.com/en/track/beginner-track\n",
    "\n",
    "This course encompasses a series of modules focusing on the basics of **blockchain** technology, **cryptocurrencies**, decentralized **finance** (DeFi), **Web3**, and trading and investing strategies."
   ]
  },
  {
   "cell_type": "markdown",
   "metadata": {},
   "source": [
    "## blockchain\n",
    "\n",
    "- blockchain is  a distributed ledger technology.\n",
    "- specific type of database.\n",
    "  - data can be add\n",
    "  - data cannot be removed\n",
    "  - each block data is linked to the previous block data\n",
    "  - each block contains a hash for it identification, and the hash based on the previous block.\n",
    "- no central authority, each node has a copy of the blockchain."
   ]
  },
  {
   "cell_type": "markdown",
   "metadata": {},
   "source": [
    "### history of blockchain\n",
    "\n",
    "\n",
    "- 1991: Stuart Haber and W. Scott Stornetta described for time-stamping digital documents.\n",
    "- 2004: Hal Finney introduced a system called reusable **proof of work** (RPOW). issue of the **double-spending problem**.\n",
    "- 2008: Satoshi Nakamoto published a whitepaper called \"Bitcoin: A Peer-to-Peer Electronic Cash System\".\n",
    "- 2009: Bitcoin network was launched.\n",
    "- 2013: Vitalik Buterin proposed **Ethereum**, a blockchain platform that supports **smart contracts**, which is a programs on the blockchain that automatically execute when certain conditions are met. DApps (decentralized applications) can be built on top of Ethereum."
   ]
  }
 ],
 "metadata": {
  "kernelspec": {
   "display_name": ".venv",
   "language": "python",
   "name": "python3"
  },
  "language_info": {
   "codemirror_mode": {
    "name": "ipython",
    "version": 3
   },
   "file_extension": ".py",
   "mimetype": "text/x-python",
   "name": "python",
   "nbconvert_exporter": "python",
   "pygments_lexer": "ipython3",
   "version": "3.12.8"
  }
 },
 "nbformat": 4,
 "nbformat_minor": 2
}
